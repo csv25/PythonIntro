{
 "cells": [
  {
   "cell_type": "markdown",
   "id": "3e186a6c-d0cf-46b7-a859-7e12dd296a84",
   "metadata": {},
   "source": [
    "# Introduction to Statements, Expressions, and Indentation\n"
   ]
  },
  {
   "cell_type": "markdown",
   "id": "d42e0551-d0ed-455e-9758-1d704fef6525",
   "metadata": {},
   "source": [
    "# Statements\n",
    "A statement is a complete line of code that performs a specific action. Examples include assignment statements, loop statements, conditional statements, and function calls.\n",
    "\n",
    "\n"
   ]
  },
  {
   "cell_type": "markdown",
   "id": "4f29bd42-b345-44cd-a293-c644803e553d",
   "metadata": {},
   "source": [
    "## Assignment Statements: Assign a value to a variable.\n"
   ]
  },
  {
   "cell_type": "code",
   "execution_count": 1,
   "id": "b6ecda96-ee23-456c-8c86-58cd8381fe22",
   "metadata": {},
   "outputs": [],
   "source": [
    "# Example 1: Assigning a string to a variable\n",
    "\n"
   ]
  },
  {
   "cell_type": "code",
   "execution_count": 2,
   "id": "f0904ffb-d302-4069-83f1-d879e7d0098e",
   "metadata": {},
   "outputs": [],
   "source": [
    "#Example 2: Assigning a value to a variable\n"
   ]
  },
  {
   "cell_type": "markdown",
   "id": "cb2f5ebd-b9d5-4e4c-86b5-91a457ca9bb1",
   "metadata": {},
   "source": [
    "## Print Statements: Output information to the console.\n"
   ]
  },
  {
   "cell_type": "code",
   "execution_count": 3,
   "id": "5950f200-00a5-47c2-9e92-eff3b7c4c3f7",
   "metadata": {},
   "outputs": [],
   "source": [
    "# Example 1: Printing a String\n"
   ]
  },
  {
   "cell_type": "code",
   "execution_count": null,
   "id": "4cc99c57-2a6c-4b3f-b1c4-ae557a4755a4",
   "metadata": {},
   "outputs": [],
   "source": []
  },
  {
   "cell_type": "code",
   "execution_count": null,
   "id": "d02bbec4-3e2c-4be3-bf5f-e8558d404394",
   "metadata": {},
   "outputs": [],
   "source": []
  },
  {
   "cell_type": "markdown",
   "id": "68036322-24b2-4fc0-9178-bcfe55f9507d",
   "metadata": {},
   "source": [
    "## Conditional Statements: Control the flow of execution based on conditions"
   ]
  },
  {
   "cell_type": "code",
   "execution_count": 4,
   "id": "35a17d9c-1914-4b45-ae56-98aa4ef56d03",
   "metadata": {},
   "outputs": [],
   "source": [
    "# example 1\n"
   ]
  },
  {
   "cell_type": "code",
   "execution_count": 5,
   "id": "6d1333b4-bf71-4d51-bf7a-695d8653634b",
   "metadata": {},
   "outputs": [
    {
     "ename": "NameError",
     "evalue": "name 'x' is not defined",
     "output_type": "error",
     "traceback": [
      "\u001b[1;31m---------------------------------------------------------------------------\u001b[0m",
      "\u001b[1;31mNameError\u001b[0m                                 Traceback (most recent call last)",
      "Cell \u001b[1;32mIn[5], line 1\u001b[0m\n\u001b[1;32m----> 1\u001b[0m x\u001b[38;5;241m>\u001b[39m\u001b[38;5;241m7\u001b[39m\n",
      "\u001b[1;31mNameError\u001b[0m: name 'x' is not defined"
     ]
    }
   ],
   "source": [
    "x>7"
   ]
  },
  {
   "cell_type": "code",
   "execution_count": null,
   "id": "c442eabe-70da-4088-aacb-ed19f471f0d4",
   "metadata": {},
   "outputs": [],
   "source": [
    "# Example 2 : Checking if a person's age is eligible for voting\n",
    "\n"
   ]
  },
  {
   "cell_type": "markdown",
   "id": "a23e6f25-a899-49e4-ab9a-5738ba5f6fae",
   "metadata": {},
   "source": [
    "## Loop Statements: Execute a block of code repeatedly.\n"
   ]
  },
  {
   "cell_type": "code",
   "execution_count": 6,
   "id": "90c1553f-004d-4e79-b11b-b8209c27d794",
   "metadata": {},
   "outputs": [],
   "source": [
    "# Example 1: Using a for loop to iterate over a sequence of numbers\n"
   ]
  },
  {
   "cell_type": "code",
   "execution_count": 7,
   "id": "e2eb8c6a-3094-47e9-a569-3a6295d95e0f",
   "metadata": {},
   "outputs": [],
   "source": [
    "# Example 2 : print numbers from 1 to 5\n",
    "\n"
   ]
  },
  {
   "cell_type": "markdown",
   "id": "12a7f9ec-52cc-4053-94a6-e5931834e6cc",
   "metadata": {},
   "source": [
    "## Expressions"
   ]
  },
  {
   "cell_type": "markdown",
   "id": "d69758c5-3668-455d-aa23-2f644f7e910a",
   "metadata": {},
   "source": [
    "An expression is a combination of values, variables, and operators that can be evaluated to produce a result. Expressions can be part of statements.\n"
   ]
  },
  {
   "cell_type": "code",
   "execution_count": 8,
   "id": "45de0362-773a-4ff4-acaa-4070b7e697ab",
   "metadata": {},
   "outputs": [],
   "source": [
    "# Assigning the value 5 to the variable x\n"
   ]
  },
  {
   "cell_type": "code",
   "execution_count": 9,
   "id": "3b7bbe29-943c-491b-9580-3c5cc483cb81",
   "metadata": {},
   "outputs": [],
   "source": [
    "# Assigning the result of the expression x + 3 to the variable y\n",
    "# x + 3 is an expression\n"
   ]
  },
  {
   "cell_type": "markdown",
   "id": "ca9f27a8-6308-40f1-9ca6-220f39bac48a",
   "metadata": {},
   "source": [
    "## Indentation "
   ]
  },
  {
   "cell_type": "markdown",
   "id": "50155208-fbea-4b1a-bae7-121780076369",
   "metadata": {},
   "source": [
    "Indentation refers to the spaces or tabs at the beginning of a line of code. \n",
    "In Python, indentation is not just for readability it is a syntactical element that defines the structure of your code.\n",
    "Indentation is used to group statements into blocks"
   ]
  },
  {
   "cell_type": "markdown",
   "id": "814f1aba-8abe-45c4-8233-48509496ea33",
   "metadata": {},
   "source": [
    "## Rules for Indentation\n"
   ]
  },
  {
   "cell_type": "markdown",
   "id": "6b5fd19a-8484-4f9f-8e45-3cf7f55bbddb",
   "metadata": {},
   "source": [
    "- Use consistent indentation throughout your code.\n",
    "- The standard convention is to use four spaces for each level of indentation.\n",
    "- Indentation is used to indicate the beginning and end of code blocks, such as those in loops and conditional statements."
   ]
  },
  {
   "cell_type": "code",
   "execution_count": 10,
   "id": "5b6d98d8-b1da-469d-a128-5c32d0cd08cc",
   "metadata": {},
   "outputs": [],
   "source": [
    "#example\n"
   ]
  },
  {
   "cell_type": "code",
   "execution_count": 11,
   "id": "c2d05ead-44e5-479e-952a-22fbdc9ea33a",
   "metadata": {},
   "outputs": [],
   "source": [
    "# Example: Using indentation in a for loop\n"
   ]
  },
  {
   "cell_type": "markdown",
   "id": "abe21edd-47cc-490e-bd95-5382b5ad9707",
   "metadata": {},
   "source": [
    "## Identifiers, Keywords & Comments\n"
   ]
  },
  {
   "cell_type": "markdown",
   "id": "70130138-3a7e-42fb-94cc-b73e5be1d8ea",
   "metadata": {},
   "source": [
    "## Identifiers "
   ]
  },
  {
   "cell_type": "markdown",
   "id": "1517a9f8-2efe-40ae-84fd-1fbfe1b7f4c6",
   "metadata": {},
   "source": [
    "Identifiers are names given to entities in a Python program. These entities can be variables, functions, classes, modules, or any other user-defined objects.\n",
    "Identifiers are crucial for making your code readable and understandable.\n"
   ]
  },
  {
   "cell_type": "markdown",
   "id": "036bd59f-48e5-45ee-b984-734dc2dbdbd4",
   "metadata": {},
   "source": [
    "## Rules for Identifiers\n"
   ]
  },
  {
   "cell_type": "markdown",
   "id": "599e56aa-06dd-40f4-afd2-bbf0f31b05ba",
   "metadata": {},
   "source": [
    "- Must begin with a letter (a-z, A-Z) or an underscore (_).\n",
    "- The remaining characters can be letters, numbers, or underscores.\n",
    "- Case-sensitive (e.g., variable and Variable are different).\n"
   ]
  },
  {
   "cell_type": "code",
   "execution_count": 12,
   "id": "7746c4d1-e7c1-4d2b-a679-b16c21dfd7bd",
   "metadata": {},
   "outputs": [],
   "source": [
    "# Example 1: Using identifiers for variable names\n",
    "\n",
    "# Assigning a value to the variable 'x'\n",
    "  # Here, 'x' is an identifier representing the variable name\n",
    "\n",
    "# Printing the value of 'x'\n",
    "\n"
   ]
  },
  {
   "cell_type": "code",
   "execution_count": 13,
   "id": "85a823ca-84ed-42da-a39b-bc57a2b66a59",
   "metadata": {},
   "outputs": [],
   "source": [
    "# Example 2: Using identifiers for variable names\n",
    "\n",
    "# Assigning a value to the variable 'y'\n",
    "  # Here, 'y' is an identifier representing the variable name\n",
    "\n",
    "# Printing the value of 'y'\n",
    "\n",
    "\n",
    "\n"
   ]
  },
  {
   "cell_type": "markdown",
   "id": "5dba81cb-8eec-48e9-9629-093dee5e7d83",
   "metadata": {},
   "source": [
    "## Keywords"
   ]
  },
  {
   "cell_type": "markdown",
   "id": "b5749d8d-ef7d-4e04-b061-31639ea1f2e8",
   "metadata": {},
   "source": [
    "Keywords are reserved words in Python that have special meanings and cannot be used as identifiers.\n",
    "They are part of the Python language syntax and serve specific purposes in the code.\n"
   ]
  },
  {
   "cell_type": "markdown",
   "id": "3ee03f1b-a70a-41ba-ad2f-c1486161ccf9",
   "metadata": {},
   "source": [
    "## Examples of Keywords:\n",
    "\n",
    "## if, else, while, for, in, def, class, True, False, None, and, or, not, import, from, as, try, except, etc.\n"
   ]
  },
  {
   "cell_type": "code",
   "execution_count": 14,
   "id": "1c1eddcd-b69a-4e6a-bcda-be78041b0ebc",
   "metadata": {},
   "outputs": [
    {
     "name": "stdout",
     "output_type": "stream",
     "text": [
      "['False', 'None', 'True', 'and', 'as', 'assert', 'async', 'await', 'break', 'class', 'continue', 'def', 'del', 'elif', 'else', 'except', 'finally', 'for', 'from', 'global', 'if', 'import', 'in', 'is', 'lambda', 'nonlocal', 'not', 'or', 'pass', 'raise', 'return', 'try', 'while', 'with', 'yield']\n"
     ]
    }
   ],
   "source": [
    "# Python code to check Keywords\n",
    "import keyword \n",
    "\n",
    "# Print the list of keywords\n",
    "print(keyword.kwlist)\n"
   ]
  },
  {
   "cell_type": "markdown",
   "id": "03978157-3341-4de3-89da-4a5b10a19e21",
   "metadata": {},
   "source": [
    "## Comments"
   ]
  },
  {
   "cell_type": "markdown",
   "id": "76f87003-0cd4-4efc-89c8-2f8bb287de11",
   "metadata": {},
   "source": [
    "Comments are annotations in the code that are ignored by the Python interpreter. They are meant for human readers to add explanations, notes, or any information that can help understand the code.\n"
   ]
  },
  {
   "cell_type": "markdown",
   "id": "0d85dbdb-159d-4b2e-81c6-dbf8bafe7d4c",
   "metadata": {},
   "source": [
    "- Single-line Comments: Begin with # and extend to the end of the line.\n",
    "- #This is a single-line comment\n",
    "- Multi-line Comments: Enclosed between triple-quotes (''' or \"\"\") and can span multiple lines.\n",
    "- '''This is a multi-line comment'''\n",
    "\n"
   ]
  },
  {
   "cell_type": "markdown",
   "id": "d5d9bd3a-bd2b-42ec-a40c-9240aab94fc9",
   "metadata": {},
   "source": [
    "Example"
   ]
  },
  {
   "cell_type": "code",
   "execution_count": 16,
   "id": "2005cdf6-00e1-4eef-a45c-041787278d3a",
   "metadata": {},
   "outputs": [],
   "source": [
    "# This is a comment explaining the purpose of the following code\n",
    " # This is an inline comment about the variable\n",
    "\n"
   ]
  },
  {
   "cell_type": "markdown",
   "id": "21d20ea8-6c12-48cb-97a1-99c5aacf8f78",
   "metadata": {},
   "source": [
    "# Variables in Python\n"
   ]
  },
  {
   "cell_type": "markdown",
   "id": "11d43a8f-3f69-449e-b3ad-5a6004759c53",
   "metadata": {},
   "source": [
    "Variables in Python are used to store data values\n"
   ]
  },
  {
   "cell_type": "markdown",
   "id": "c98b72d6-96a0-41c1-bbde-ed1e873b4551",
   "metadata": {},
   "source": [
    "### Variable Declaration:\n",
    "### name = \"John“\n",
    "### age = 30\n",
    "### Here, ‘name’ & ‘age’ are variables which stores the values – “John” & 30 \n"
   ]
  },
  {
   "cell_type": "markdown",
   "id": "5fa9cf75-14d9-4912-84ce-3ecc19e82233",
   "metadata": {},
   "source": [
    "### Rules of variables"
   ]
  },
  {
   "cell_type": "markdown",
   "id": "1ee8507d-5b6e-42c9-b05a-0fca14ec5a07",
   "metadata": {},
   "source": [
    "- They can contain letters, digits, and underscores.\n",
    "- They must start with a letter or an underscore (but not a digit).\n",
    "- Variable names are case-sensitive.\n",
    "- Avoid using Python keywords (reserved words) as variable names.\n"
   ]
  },
  {
   "cell_type": "code",
   "execution_count": 18,
   "id": "b4de8a55-e742-4af0-b02d-80cfbbc510cb",
   "metadata": {},
   "outputs": [],
   "source": [
    "# Assigning a numerical value (10) to the variable 'number'\n",
    "\n",
    "# Printing the value of the variable\n"
   ]
  },
  {
   "cell_type": "code",
   "execution_count": 19,
   "id": "8903dc52-8fff-4747-854b-f1a83169b1af",
   "metadata": {},
   "outputs": [],
   "source": [
    "# Assigning a string value (\"Hello, World!\") to the variable 'message'\n",
    "\n",
    " # Printing the value of the variable\n"
   ]
  },
  {
   "cell_type": "markdown",
   "id": "f8c157a1-f4ed-4dd9-a9d9-c933687957d3",
   "metadata": {},
   "source": [
    "### Multiple assignments in Python allow you to assign values to multiple variables in a single line. "
   ]
  },
  {
   "cell_type": "markdown",
   "id": "a533a1bf-841b-4427-8e25-b465e6d5be00",
   "metadata": {},
   "source": [
    "### x, y, z = 10, 20, 30\n",
    "### This assigns 10 to x, 20 to y, and 30 to z"
   ]
  },
  {
   "cell_type": "code",
   "execution_count": 21,
   "id": "c2ca05c1-4714-41be-8c2b-95ad8f8a8c2a",
   "metadata": {},
   "outputs": [],
   "source": [
    "# Multiple assignments\n",
    "\n",
    "\n",
    "# Print the values of x, y, and z\n"
   ]
  },
  {
   "cell_type": "markdown",
   "id": "1ed27ba7-e824-4c5e-a62f-bfd0abf463dd",
   "metadata": {},
   "source": [
    "### Variable reuse in Python allows you to assign a new value to an existing variable, effectively overwriting its previous value. "
   ]
  },
  {
   "cell_type": "markdown",
   "id": "f65a0b58-4fc3-480a-9805-d83c5222f140",
   "metadata": {},
   "source": [
    "### x = 5\n",
    "### x = \"Hello“\n",
    "### In this example, x initially holds an integer but is later assigned a string."
   ]
  },
  {
   "cell_type": "code",
   "execution_count": 22,
   "id": "868145ef-07d5-480d-b962-97acc7599bdf",
   "metadata": {},
   "outputs": [],
   "source": [
    "# Variable reuse\n",
    "\n",
    "\n",
    "# Reassigning a new value to the variable 'x'\n",
    "\n"
   ]
  },
  {
   "cell_type": "markdown",
   "id": "baee636b-0767-4ba8-b570-fa8d4290b6ba",
   "metadata": {},
   "source": [
    "# Fundamental Data Types\n"
   ]
  },
  {
   "cell_type": "markdown",
   "id": "e03350f6-3c52-41c3-806d-54f019436902",
   "metadata": {},
   "source": [
    "### Integer (int)\n"
   ]
  },
  {
   "cell_type": "markdown",
   "id": "51960eda-ac60-4732-90b9-cd0dd67e486e",
   "metadata": {},
   "source": [
    "An integer is a numerical data type that represents whole numbers. It does not include fractions or decimal points.\n"
   ]
  },
  {
   "cell_type": "code",
   "execution_count": 23,
   "id": "b664bdef-862c-4031-a0c4-384f1a5930f3",
   "metadata": {},
   "outputs": [],
   "source": [
    "# To check the data type of a \n",
    "\n",
    "# To check the id of a\n",
    "\n",
    "\n"
   ]
  },
  {
   "cell_type": "code",
   "execution_count": 24,
   "id": "b3067974-fc67-45e3-bcd7-41ea744afdd1",
   "metadata": {},
   "outputs": [],
   "source": [
    "# Assigning a positive integer value (42) to the variable 'positive_integer'\n",
    "\n",
    "\n",
    "# Assigning a negative integer value (-10) to the variable 'negative_integer'\n",
    "\n",
    "\n",
    "# Assigning zero (0) to the variable 'zero'\n",
    "\n",
    "\n",
    "# Printing the values of the variables\n",
    "\n"
   ]
  },
  {
   "cell_type": "markdown",
   "id": "ed5b7fc8-4fef-429d-bbcc-fb8657b13552",
   "metadata": {},
   "source": [
    "### Integer Caches: Python caches a range of small integers (typically from -5 to 256)​\n",
    "\n"
   ]
  },
  {
   "cell_type": "code",
   "execution_count": 25,
   "id": "8daa730d-2d96-41ec-9b89-059a14cfdb72",
   "metadata": {},
   "outputs": [],
   "source": [
    "\n",
    "# gives True\n",
    "\n",
    "# id of both a & b is same   \n"
   ]
  },
  {
   "cell_type": "code",
   "execution_count": 26,
   "id": "68a66e94-f567-486c-94aa-841e3a86af9f",
   "metadata": {},
   "outputs": [],
   "source": [
    "\n",
    "\n",
    "\n",
    "# gives False\n",
    "\n",
    "\n",
    "# id of both x & y may or may not be the same   \n"
   ]
  },
  {
   "cell_type": "markdown",
   "id": "795ae23b-bb47-4baf-8721-2ff252c0f8b3",
   "metadata": {},
   "source": [
    "### (Float)\n",
    "### Floats are used to represent real numbers.\n"
   ]
  },
  {
   "cell_type": "markdown",
   "id": "ee3a8fb3-199a-4609-a262-4dc4ba92bd61",
   "metadata": {},
   "source": [
    "### Floats in Python are implemented as IEEE 754 double-precision floating-point numbers, which provide approximately 15-17 significant digits of precision\n"
   ]
  },
  {
   "cell_type": "code",
   "execution_count": 27,
   "id": "ef25117f-2bcd-4f42-96b1-b17222f35f5c",
   "metadata": {},
   "outputs": [],
   "source": [
    "\n",
    "# Printing the data type of 'a'\n",
    "\n",
    "# Output: <class 'float'> (indicating that 'a' is a float)\n",
    "\n",
    "# Printing the memory address (ID) of 'a'\n",
    "\n",
    "# Output: Memory address of the float object '1.5'\n"
   ]
  },
  {
   "cell_type": "code",
   "execution_count": 28,
   "id": "4d7e755a-f8d4-4f0c-8cae-92433f61d021",
   "metadata": {},
   "outputs": [
    {
     "name": "stdout",
     "output_type": "stream",
     "text": [
      "Value of pi: 3.14159\n"
     ]
    }
   ],
   "source": [
    "# Assigning a floating-point value to the variable 'pi'\n",
    "pi = 3.14159\n",
    "\n",
    "# Printing the value of 'pi'\n",
    "print(\"Value of pi:\", pi)\n"
   ]
  },
  {
   "cell_type": "markdown",
   "id": "0caaf995-7af8-4526-a302-9955361b883d",
   "metadata": {},
   "source": [
    "### Complex"
   ]
  },
  {
   "cell_type": "markdown",
   "id": "f44f493d-154b-4a1a-9578-34ba31440be0",
   "metadata": {},
   "source": [
    "- Complex numbers in Python are written as a+bj, where a is the real part, and b is the imaginary part\n",
    "- Used in AC (circuit analysis), signal processing, and quantum mechanics.\n"
   ]
  },
  {
   "cell_type": "code",
   "execution_count": 29,
   "id": "47c8932d-26b2-43f8-b8d4-d11dfebf6a63",
   "metadata": {},
   "outputs": [],
   "source": [
    "# Where 3 is the real part, and 4 is the imaginary part.\n",
    "\n",
    "# Printing the data type of 'z'\n",
    "# Output: <class 'complex'> (indicating that 'z' is a complex number)\n",
    "\n",
    "# To check the id of 'z' (commented out)\n",
    "# print(id(z))\n",
    "\n"
   ]
  },
  {
   "cell_type": "code",
   "execution_count": 30,
   "id": "eb01c4b4-12b1-4d2a-916f-e9df2de6c6e3",
   "metadata": {},
   "outputs": [],
   "source": [
    "# Where 10 is the real part, and 12 is the imaginary part.\n",
    "\n",
    "# Printing the data type of 'z'\n",
    "\n",
    "# Output: <class 'complex'> (indicating that 'z' is a complex number)\n",
    "\n",
    "# To check the id of 'z' (commented out)\n",
    "# print(id(a))"
   ]
  },
  {
   "cell_type": "markdown",
   "id": "e3101423-8f6b-4be2-b736-62a01bda83e6",
   "metadata": {},
   "source": [
    "### Boolean (bool) \n"
   ]
  },
  {
   "cell_type": "markdown",
   "id": "3b0c6f1d-fa08-4e31-8ab4-4b092e330427",
   "metadata": {},
   "source": [
    "- A boolean is a data type that represents one of two possible values: True or False\n",
    "- Booleans are primarily used for logical operations and conditions.\n",
    "- Used extensively in conditional statements, loops, and logical operations"
   ]
  },
  {
   "cell_type": "code",
   "execution_count": 31,
   "id": "8452f581-55b8-4a0f-a961-30a6819376a9",
   "metadata": {},
   "outputs": [],
   "source": [
    "# Using the bool() constructor to convert the integer value 20 to a boolean value\n",
    "\n",
    "\n",
    "# Printing the boolean value 'a' and its data type\n",
    "\n"
   ]
  },
  {
   "cell_type": "code",
   "execution_count": 32,
   "id": "278487b2-d92d-432d-b1e1-b2fe91a98368",
   "metadata": {},
   "outputs": [],
   "source": [
    "# Using the bool() constructor to convert the integer value 0 to a boolean value\n",
    "\n",
    "\n",
    "# Printing the boolean value 'b' and its data type\n",
    "\n"
   ]
  },
  {
   "cell_type": "markdown",
   "id": "ffeed2ac-e5de-4f5b-bbf7-c6bbe3f34ac6",
   "metadata": {},
   "source": [
    "### NoneType (None)\n"
   ]
  },
  {
   "cell_type": "markdown",
   "id": "c91385eb-6b45-4efe-9ade-63298180e1d0",
   "metadata": {},
   "source": [
    "- NoneType is a special data type in Python that has only one value: None. \n",
    "- It is used to represent the absence of a value or a null value. \n",
    "- When a variable or a function returns None, it typically signifies that there is no valid data or no meaningful result.\n"
   ]
  },
  {
   "cell_type": "markdown",
   "id": "1b8c2812-96a4-4165-a7c7-2de5b56a0f0e",
   "metadata": {},
   "source": [
    "### In this example, the variable result is assigned the value None, indicating that it has not been assigned a meaningful value or result yet\n",
    "### result = None \n",
    "\n"
   ]
  },
  {
   "cell_type": "markdown",
   "id": "1ca28a2e-23a6-4562-9cbf-7efcb7f34c8a",
   "metadata": {},
   "source": [
    "# Strings in Python"
   ]
  },
  {
   "cell_type": "markdown",
   "id": "247c1921-1810-4053-a3f7-8ab7752d8cc8",
   "metadata": {},
   "source": [
    "- In Python, a string is a sequence of characters, and it is one of the fundamental data types in the language. \n",
    "- Strings are used to represent text and are treated as immutable sequences of Unicode code points.\n"
   ]
  },
  {
   "cell_type": "markdown",
   "id": "3b640980-46b5-40ec-92ba-babc9cb887d0",
   "metadata": {},
   "source": [
    "### Strings can be declared using either single quotes (‘ ’) or double quotes (“ ”).\n"
   ]
  },
  {
   "cell_type": "code",
   "execution_count": 33,
   "id": "4c07c7e8-e425-432c-8d22-510360f83101",
   "metadata": {},
   "outputs": [
    {
     "name": "stdout",
     "output_type": "stream",
     "text": [
      "Single quoted: Hello, World!\n",
      "Double quoted: Python is great!\n",
      "Triple quoted: This is a \n",
      "                   multi-line string.\n"
     ]
    }
   ],
   "source": [
    "single_quoted = 'Hello, World!'\n",
    "double_quoted = \"Python is great!\"\n",
    "triple_quoted = '''This is a \n",
    "                   multi-line string.'''\n",
    "\n",
    "print(\"Single quoted:\", single_quoted)\n",
    "print(\"Double quoted:\", double_quoted)\n",
    "print(\"Triple quoted:\", triple_quoted)\n",
    "\n"
   ]
  },
  {
   "cell_type": "markdown",
   "id": "7dca6685-c000-412c-8f0e-9fd19a78b5a5",
   "metadata": {},
   "source": [
    "### String Concatenation: You can concatenate (combine) strings using the + operator.\n"
   ]
  },
  {
   "cell_type": "code",
   "execution_count": null,
   "id": "347ea01c-851c-4413-959e-2b55f8b7c4ad",
   "metadata": {},
   "outputs": [],
   "source": [
    "\n",
    "\n",
    "\n"
   ]
  },
  {
   "cell_type": "markdown",
   "id": "d68bcf9c-d62c-4d2b-9c67-95b1f8da8636",
   "metadata": {},
   "source": [
    "### String Length: You can find the length of a string using the len() function\n"
   ]
  },
  {
   "cell_type": "code",
   "execution_count": null,
   "id": "2fa1e30f-bb36-4838-b7c2-9e101fbf635a",
   "metadata": {},
   "outputs": [],
   "source": [
    "\n"
   ]
  },
  {
   "cell_type": "markdown",
   "id": "5feffe0f-a1a1-4ccb-94d8-39366e0366f5",
   "metadata": {},
   "source": [
    "### String Indexing"
   ]
  },
  {
   "cell_type": "markdown",
   "id": "7c6101f0-5c06-44d2-b490-448c5ebb1691",
   "metadata": {},
   "source": [
    "### Strings are zero-indexed, meaning the first character has an index of 0, the second character has an index of 1, and so on."
   ]
  },
  {
   "cell_type": "code",
   "execution_count": 34,
   "id": "8aa026d3-a487-4b6e-86d8-2cd21d6f181a",
   "metadata": {},
   "outputs": [],
   "source": [
    "\n",
    "\n",
    "# Accessing the characters of the string using their indices\n",
    "# Accessing the first character\n",
    "# Accessing the second character\n",
    "# Accessing the third character\n",
    "\n",
    "# Printing the characters along with their indices\n",
    "\n",
    "\n",
    "\n"
   ]
  },
  {
   "cell_type": "markdown",
   "id": "057ee9e9-6b25-4d81-83f5-1aef2df374e1",
   "metadata": {},
   "source": [
    "### String Slicing"
   ]
  },
  {
   "cell_type": "markdown",
   "id": "14aa9961-5e58-410b-b368-fa31ca468ac8",
   "metadata": {},
   "source": [
    "- Slicing allows you to extract a portion (substring) of a string by specifying a range of indices.\n",
    "- The syntax for slicing is string[start:end:steps], where start is the index of the first character you want to include, and end is the index of the first character you want to exclude.\n"
   ]
  },
  {
   "cell_type": "code",
   "execution_count": 35,
   "id": "7ed04354-da31-47d7-845e-5e328c1d7980",
   "metadata": {},
   "outputs": [],
   "source": [
    "# Define the string variable 'text'\n",
    "\n",
    "# Slice the string from index 1 to 4 (exclusive) and assign it to 'sliced_text'\n",
    "# \"yth\" (from index 1 to 3)\n",
    "\n",
    "# Print the sliced text along with a comment\n",
    "\n"
   ]
  },
  {
   "cell_type": "code",
   "execution_count": 36,
   "id": "de108ff3-e387-4aec-80c2-b5f1e1fe024f",
   "metadata": {},
   "outputs": [],
   "source": [
    "# Define the string variable 'text'\n",
    "\n",
    "\n",
    "# Slice the string using negative indices and assign it to 'sliced_text'\n",
    "\n",
    "# \"th\" (from the third-to-last to the second-to-last character)\n",
    "\n",
    "# Print the sliced text along with a comment\n",
    "\n"
   ]
  },
  {
   "cell_type": "markdown",
   "id": "e8b5233d-48b8-45dc-ace9-6f1ebf27f606",
   "metadata": {},
   "source": [
    "# String Methods\n"
   ]
  },
  {
   "cell_type": "markdown",
   "id": "b828efd1-3b50-4a65-b4c6-ea47d71b3aa0",
   "metadata": {},
   "source": [
    "- Conversion Methods - str(): Converts an object into a string representation\n",
    "- int(), float(), complex(): Converts a string to an integer, float, or complex number.¶"
   ]
  },
  {
   "cell_type": "code",
   "execution_count": 37,
   "id": "d37a3a08-c72c-4fc7-a8f4-2af729a1b332",
   "metadata": {},
   "outputs": [],
   "source": [
    "# Define an integer variable 'number'\n",
    "\n",
    "\n",
    "# Convert the integer 'number' to a string and assign it to 'str_number'\n",
    "\n",
    "\n",
    "# Print the converted string along with a comment\n",
    "\n"
   ]
  },
  {
   "cell_type": "markdown",
   "id": "47d3b797-461d-4c26-88c4-426fd5f3f81a",
   "metadata": {},
   "source": [
    "### Case Conversion Methods"
   ]
  },
  {
   "cell_type": "markdown",
   "id": "b03e40ff-1fd9-4f82-9527-b453beeb17f0",
   "metadata": {},
   "source": [
    "- upper(): Converts all characters in a string to uppercase.\n",
    "- lower(): Converts all characters in a string to lowercase.\n",
    "- capitalize(): Capitalizes the first character of a string.\n",
    "- title(): Converts the first character of each word to uppercase.\n",
    "\n"
   ]
  },
  {
   "cell_type": "code",
   "execution_count": 38,
   "id": "8ec064e8-4f8a-4fd4-af09-410827123429",
   "metadata": {},
   "outputs": [],
   "source": [
    "# Define the string variable 'text'\n",
    "\n",
    "\n",
    "# Convert the string to uppercase and assign it to 'upper_text'\n",
    "\n",
    "\n",
    "# Convert the string to lowercase and assign it to 'lower_text'\n",
    "\n",
    "\n",
    "# Print the converted strings along with comments\n",
    "\n"
   ]
  },
  {
   "cell_type": "markdown",
   "id": "c3084057-938e-49c5-9f2f-afe8c60866f8",
   "metadata": {},
   "source": [
    "### Stripping Methods\n"
   ]
  },
  {
   "cell_type": "markdown",
   "id": "f0a4bf8e-5917-4be0-a036-3365b5309348",
   "metadata": {},
   "source": [
    "- strip(): Removes leading and trailing whitespace from a string.\n",
    "- lstrip(): Removes leading whitespace.\n",
    "- rstrip(): Removes trailing whitespace.\n"
   ]
  },
  {
   "cell_type": "code",
   "execution_count": 39,
   "id": "08a1830d-de71-4a17-a5d3-d06be083b2bf",
   "metadata": {},
   "outputs": [],
   "source": [
    "# Define the string variable 'my_string'\n",
    "\n",
    "\n",
    "# Strip leading and trailing whitespace characters from the string and assign it to 'stripped_string'\n",
    "\n",
    "\n",
    "# Print the stripped string along with a comment\n",
    "\n"
   ]
  },
  {
   "cell_type": "markdown",
   "id": "66629668-8867-4e6d-a955-c629ab842fff",
   "metadata": {},
   "source": [
    "### Search and Replace Methods"
   ]
  },
  {
   "cell_type": "markdown",
   "id": "440b23f1-0ef0-4299-bef0-9c8ac5dc4393",
   "metadata": {},
   "source": [
    "- find(): Returns the lowest index of a substring (or -1 if not found).\n",
    "- index(): Similar to find() but raises an exception if the substring is not found.\n",
    "- replace(): Replaces occurrences of a substring with another string.\n"
   ]
  },
  {
   "cell_type": "code",
   "execution_count": 40,
   "id": "2cf2a829-e503-474b-a94b-dbd4c71d3925",
   "metadata": {},
   "outputs": [],
   "source": [
    "# Define the string variable 'sentence'\n",
    "\n",
    "\n",
    "# Find the index of the first occurrence of \"is\" in the string and assign it to 'index'\n",
    "\n",
    "\n",
    "# Replace all occurrences of \"Python\" with \"JavaScript\" in the string and assign it to 'replaced_sentence'\n",
    "\n",
    "\n",
    "# Print the replaced sentence along with a comment\n",
    "\n"
   ]
  },
  {
   "cell_type": "markdown",
   "id": "933e7e43-64af-486f-8e17-b858188cfc6d",
   "metadata": {},
   "source": [
    "### Counting Methods"
   ]
  },
  {
   "cell_type": "markdown",
   "id": "37e469db-4ad7-4ca9-93c8-4a3e5ecaba24",
   "metadata": {},
   "source": [
    "### count(): Returns the number of occurrences of a substring in a string.\n",
    "\n"
   ]
  },
  {
   "cell_type": "code",
   "execution_count": 41,
   "id": "40a14bf7-0b5b-4011-bb36-31946228bfe7",
   "metadata": {},
   "outputs": [],
   "source": [
    "# Define the string variable 'sentence'\n",
    "\n",
    "\n",
    "# Count the occurrences of the substring \"is\" in the string and assign it to 'count_is'\n",
    "\n",
    "\n",
    "# Print the count along with a comment\n",
    "\n"
   ]
  },
  {
   "cell_type": "markdown",
   "id": "550abb67-3338-4313-bc88-68b33132359e",
   "metadata": {},
   "source": [
    "### Checking Methods\n"
   ]
  },
  {
   "cell_type": "markdown",
   "id": "6974e71e-98a2-4e70-9c6c-f26fb6f6dcce",
   "metadata": {},
   "source": [
    "- startswith(): Checks if a string starts with a specified prefix.\n",
    "- endswith(): Checks if a string ends with a specified suffix.\n",
    "- isalpha(): Checks if all characters in a string are alphabetic.\n",
    "- isdigit(): Checks if all characters in a string are digits.\n",
    "- isalnum(): Checks if all characters in a string are alphanumeric.\n"
   ]
  },
  {
   "cell_type": "code",
   "execution_count": 42,
   "id": "a2df062e-f7cc-440a-adfa-f7fafda23248",
   "metadata": {},
   "outputs": [],
   "source": [
    "# Define the string variable 'text'\n",
    "\n",
    "\n",
    "# Check if the string starts with the prefix \"Hello\" and assign the result to 'starts_with_hello'\n",
    "\n",
    "\n",
    "# Print the result along with a comment\n",
    "\n"
   ]
  },
  {
   "cell_type": "markdown",
   "id": "930d09ea-e679-401f-9568-9c67172e8125",
   "metadata": {},
   "source": [
    "### Splitting and Joining Methods"
   ]
  },
  {
   "cell_type": "markdown",
   "id": "acb63f13-82fd-4b05-bbbd-f13513b9bda5",
   "metadata": {},
   "source": [
    "- split(): Splits a string into a list of substrings based on a specified delimiter.\n",
    "- join(): Concatenates a list of strings into one string using a specified delimiter.\n",
    "\n"
   ]
  },
  {
   "cell_type": "code",
   "execution_count": 43,
   "id": "f58212ea-227b-4f9e-83d9-5cca7d5b32fc",
   "metadata": {},
   "outputs": [],
   "source": [
    "# Define the string variable 'sentence'\n",
    "\n",
    "\n",
    "# Split the string into words and assign the result to 'words'\n",
    "# Defaults to splitting on whitespace\n",
    "\n",
    "# Join the words back into a single string with space as separator and assign it to 'joined_sentence'\n",
    "\n",
    "\n",
    "# Print the joined sentence along with a comment\n",
    "\n"
   ]
  },
  {
   "cell_type": "markdown",
   "id": "9d971e86-e5a4-496f-b668-dc0f4bf99398",
   "metadata": {},
   "source": [
    "### Formatting Methods"
   ]
  },
  {
   "cell_type": "markdown",
   "id": "6b357ce8-7898-4863-adc7-f6a8db393165",
   "metadata": {},
   "source": [
    "- format(): Formats a string by replacing placeholders with values.\n",
    "- format_map(): Similar to format() but takes a mapping (a dictionary) as its argument.\n"
   ]
  },
  {
   "cell_type": "code",
   "execution_count": 44,
   "id": "ae17f6ef-4f1d-468d-8a81-2b65af7bf621",
   "metadata": {},
   "outputs": [],
   "source": [
    "# Define variables 'name' and 'age'\n",
    "\n",
    "\n",
    "# Format the string using placeholders {} and the format() method, and assign it to 'formatted_string'\n",
    "\n",
    "\n",
    "# Print the formatted string along with a comment\n",
    "\n"
   ]
  },
  {
   "cell_type": "markdown",
   "id": "b2654ba8-c963-461d-a160-988e6e30549e",
   "metadata": {},
   "source": [
    "# Type Casting & Conversion\n"
   ]
  },
  {
   "cell_type": "markdown",
   "id": "d3a8d1f4-3975-4347-938a-1dcb0ba9bb3a",
   "metadata": {},
   "source": [
    "### bool(): Converts an object to a Boolean value.\n"
   ]
  },
  {
   "cell_type": "code",
   "execution_count": 45,
   "id": "32e7d808-9803-492d-ae5d-c5fdb1edec06",
   "metadata": {},
   "outputs": [],
   "source": [
    "# Define the variable 'value'\n",
    "\n",
    "\n",
    "# Convert the value to a boolean and assign it to 'bool_value'\n",
    "\n",
    "\n",
    "# Print the boolean value along with a comment\n",
    "\n"
   ]
  },
  {
   "cell_type": "markdown",
   "id": "f3cd1d4a-914d-419e-88b8-1a096eb3dfd0",
   "metadata": {},
   "source": [
    "### list(): Converts an iterable (e.g., tuple, string, or set) to a list.\n"
   ]
  },
  {
   "cell_type": "code",
   "execution_count": 46,
   "id": "295de5e5-73f2-4242-91ea-0f2bf096f07d",
   "metadata": {},
   "outputs": [],
   "source": [
    "# Define the tuple 'my_tuple'\n",
    "\n",
    "\n",
    "# Convert the tuple to a list and assign it to 'my_list'\n",
    "\n",
    "\n",
    "# Print the converted list along with a comment\n",
    "\n"
   ]
  },
  {
   "cell_type": "markdown",
   "id": "81bb7927-388b-43de-8627-8487a4b4503f",
   "metadata": {},
   "source": [
    "###  tuple(): Converts an iterable to a tuple.\n"
   ]
  },
  {
   "cell_type": "code",
   "execution_count": 47,
   "id": "a2da8f4d-45c4-4969-a28e-283b30de047e",
   "metadata": {},
   "outputs": [],
   "source": [
    "# Define the list 'my_list'\n",
    "\n",
    "\n",
    "# Convert the list to a tuple and assign it to 'my_tuple'\n",
    "\n",
    "\n",
    "# Print the converted tuple along with a comment\n",
    "\n"
   ]
  },
  {
   "cell_type": "markdown",
   "id": "76013d97-debe-432e-9170-bb10d2e11623",
   "metadata": {},
   "source": [
    "###   set(): Converts an iterable to a set.\n"
   ]
  },
  {
   "cell_type": "code",
   "execution_count": 48,
   "id": "8eb0e958-1d71-4dd4-b73f-b68f539d83b6",
   "metadata": {},
   "outputs": [],
   "source": [
    "# Define the list 'my_list'\n",
    "\n",
    "\n",
    "# Convert the list to a set and assign it to 'my_set'\n",
    "\n",
    "\n",
    "# Print the converted set along with a comment\n",
    "\n",
    "\n"
   ]
  },
  {
   "cell_type": "markdown",
   "id": "86280322-6e64-4cfa-b68b-0886a8ae7b1d",
   "metadata": {},
   "source": [
    "### int(): Converts a number or a string containing a whole number to an integer.\n"
   ]
  },
  {
   "cell_type": "code",
   "execution_count": 49,
   "id": "8eaf635e-f4e4-41f4-a92d-3f08a7656169",
   "metadata": {},
   "outputs": [],
   "source": [
    "# Define the string 'num_str'\n",
    "\n",
    "\n",
    "# Convert the string to a float and assign it to 'num_float'\n",
    "\n",
    "\n",
    "# Print the converted float along with a comment\n",
    "\n"
   ]
  },
  {
   "cell_type": "markdown",
   "id": "30c47ee9-7844-47c9-aac9-39b1c8b6d7b2",
   "metadata": {},
   "source": [
    "### float(): Converts a number or a string containing a number to a floating-point number"
   ]
  },
  {
   "cell_type": "code",
   "execution_count": 50,
   "id": "d486ed0f-d098-42a7-8d7a-f93000c7755e",
   "metadata": {},
   "outputs": [],
   "source": [
    "# Define the string 'num_str'\n",
    "\n",
    "\n",
    "# Convert the string to a float and assign it to 'num_float'\n",
    "\n",
    "\n",
    "# Print the converted float along with a comment\n",
    "\n"
   ]
  },
  {
   "cell_type": "markdown",
   "id": "91d10084-c9d0-493b-88d5-9acfd93667a7",
   "metadata": {},
   "source": [
    "###  str(): Converts an object to a string.\n"
   ]
  },
  {
   "cell_type": "code",
   "execution_count": 51,
   "id": "e7ce1172-9b61-4c99-af1e-874964f52ab0",
   "metadata": {},
   "outputs": [],
   "source": [
    "# Define the integer 'num_int'\n",
    "\n",
    "\n",
    "# Convert the integer to a string and assign it to 'num_str'\n",
    "\n",
    "\n",
    "# Print the converted string along with a comment\n",
    "\n"
   ]
  },
  {
   "cell_type": "markdown",
   "id": "54109de5-4b9f-4148-be45-cd8645dadb50",
   "metadata": {},
   "source": [
    "### dict(): Converts a sequence of key-value pairs as tuples into a dictionary.\n"
   ]
  },
  {
   "cell_type": "code",
   "execution_count": 52,
   "id": "f9cab370-11c7-46dc-ab4e-5a162af84e03",
   "metadata": {},
   "outputs": [],
   "source": [
    "# Define the list of tuples 'my_list'\n",
    "\n",
    "\n",
    "# Convert the list of tuples to a dictionary and assign it to 'my_dict'\n",
    "\n",
    "\n",
    "# Print the converted dictionary along with a comment\n",
    "\n"
   ]
  },
  {
   "cell_type": "markdown",
   "id": "892487dd-0528-489f-bf42-415ca3e8d586",
   "metadata": {},
   "source": [
    "### ord() and chr(): Convert a character to its Unicode code point and vice versa.\n"
   ]
  },
  {
   "cell_type": "code",
   "execution_count": 53,
   "id": "409b3a4e-147d-4486-b2bf-d874a533f01e",
   "metadata": {},
   "outputs": [],
   "source": [
    "# Define the character 'char'\n",
    "\n",
    "\n",
    "# Get the Unicode code point of the character and assign it to 'unicode_value'\n",
    "\n",
    "\n",
    "# Get the character from its Unicode code point and assign it to 'char_again'\n",
    "\n",
    "\n",
    "# Print the Unicode code point of the character along with a comment\n",
    "\n",
    "\n",
    "# Print the character obtained from its Unicode code point along with a comment\n",
    "\n"
   ]
  },
  {
   "cell_type": "code",
   "execution_count": null,
   "id": "50324af3-cf46-4a67-a9dc-469501effe2b",
   "metadata": {},
   "outputs": [],
   "source": []
  },
  {
   "cell_type": "code",
   "execution_count": null,
   "id": "70495063",
   "metadata": {},
   "outputs": [],
   "source": []
  }
 ],
 "metadata": {
  "kernelspec": {
   "display_name": "Python 3 (ipykernel)",
   "language": "python",
   "name": "python3"
  },
  "language_info": {
   "codemirror_mode": {
    "name": "ipython",
    "version": 3
   },
   "file_extension": ".py",
   "mimetype": "text/x-python",
   "name": "python",
   "nbconvert_exporter": "python",
   "pygments_lexer": "ipython3",
   "version": "3.11.4"
  }
 },
 "nbformat": 4,
 "nbformat_minor": 5
}
